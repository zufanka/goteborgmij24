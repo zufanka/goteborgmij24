{
 "cells": [
  {
   "cell_type": "code",
   "execution_count": 1,
   "id": "42aa9ded-7eb5-4af4-ab77-40f5f88bc21f",
   "metadata": {},
   "outputs": [],
   "source": [
    "import pandas as pd"
   ]
  },
  {
   "cell_type": "code",
   "execution_count": 2,
   "id": "ef0f6a8d-ae9f-483d-a002-499f4748bd3f",
   "metadata": {},
   "outputs": [],
   "source": [
    "df = pd.read_csv(\"data/cocktails.csv\")"
   ]
  },
  {
   "cell_type": "code",
   "execution_count": 3,
   "id": "89ec988b-6414-47fa-9752-638f55d8801c",
   "metadata": {},
   "outputs": [
    {
     "data": {
      "text/html": [
       "<div>\n",
       "<style scoped>\n",
       "    .dataframe tbody tr th:only-of-type {\n",
       "        vertical-align: middle;\n",
       "    }\n",
       "\n",
       "    .dataframe tbody tr th {\n",
       "        vertical-align: top;\n",
       "    }\n",
       "\n",
       "    .dataframe thead th {\n",
       "        text-align: right;\n",
       "    }\n",
       "</style>\n",
       "<table border=\"1\" class=\"dataframe\">\n",
       "  <thead>\n",
       "    <tr style=\"text-align: right;\">\n",
       "      <th></th>\n",
       "      <th>name</th>\n",
       "      <th>category</th>\n",
       "      <th>row_id</th>\n",
       "      <th>ingredient_number</th>\n",
       "      <th>ingredient</th>\n",
       "      <th>measure</th>\n",
       "    </tr>\n",
       "  </thead>\n",
       "  <tbody>\n",
       "    <tr>\n",
       "      <th>2632</th>\n",
       "      <td>Bolshoi Punch</td>\n",
       "      <td>Vodka</td>\n",
       "      <td>725</td>\n",
       "      <td>3</td>\n",
       "      <td>Simple Syrup</td>\n",
       "      <td>1/2 oz</td>\n",
       "    </tr>\n",
       "    <tr>\n",
       "      <th>2038</th>\n",
       "      <td>Dillatini</td>\n",
       "      <td>Cocktail Classics</td>\n",
       "      <td>563</td>\n",
       "      <td>2</td>\n",
       "      <td>Dry Vermouth</td>\n",
       "      <td>3/4 oz</td>\n",
       "    </tr>\n",
       "    <tr>\n",
       "      <th>3503</th>\n",
       "      <td>Bolero Cocktail</td>\n",
       "      <td>Cocktail Classics</td>\n",
       "      <td>954</td>\n",
       "      <td>3</td>\n",
       "      <td>Sweet Vermouth</td>\n",
       "      <td>1/4 oz</td>\n",
       "    </tr>\n",
       "    <tr>\n",
       "      <th>1050</th>\n",
       "      <td>Bourbon And Elder</td>\n",
       "      <td>Whiskies</td>\n",
       "      <td>297</td>\n",
       "      <td>3</td>\n",
       "      <td>Angostura Bitters</td>\n",
       "      <td>1 oz</td>\n",
       "    </tr>\n",
       "    <tr>\n",
       "      <th>2797</th>\n",
       "      <td>Parisian Blonde Cocktail</td>\n",
       "      <td>Cocktail Classics</td>\n",
       "      <td>772</td>\n",
       "      <td>3</td>\n",
       "      <td>Jamaica Rum</td>\n",
       "      <td>3/4 oz</td>\n",
       "    </tr>\n",
       "  </tbody>\n",
       "</table>\n",
       "</div>"
      ],
      "text/plain": [
       "                          name           category  row_id  ingredient_number  \\\n",
       "2632             Bolshoi Punch              Vodka     725                  3   \n",
       "2038                 Dillatini  Cocktail Classics     563                  2   \n",
       "3503           Bolero Cocktail  Cocktail Classics     954                  3   \n",
       "1050         Bourbon And Elder           Whiskies     297                  3   \n",
       "2797  Parisian Blonde Cocktail  Cocktail Classics     772                  3   \n",
       "\n",
       "             ingredient measure  \n",
       "2632       Simple Syrup  1/2 oz  \n",
       "2038       Dry Vermouth  3/4 oz  \n",
       "3503     Sweet Vermouth  1/4 oz  \n",
       "1050  Angostura Bitters    1 oz  \n",
       "2797        Jamaica Rum  3/4 oz  "
      ]
     },
     "execution_count": 3,
     "metadata": {},
     "output_type": "execute_result"
    }
   ],
   "source": [
    "df.sample(5)"
   ]
  },
  {
   "cell_type": "code",
   "execution_count": 5,
   "id": "1c6b53fe-8fdf-4df1-bfdd-61e336b5c83c",
   "metadata": {
    "scrolled": true
   },
   "outputs": [
    {
     "data": {
      "text/html": [
       "<div>\n",
       "<style scoped>\n",
       "    .dataframe tbody tr th:only-of-type {\n",
       "        vertical-align: middle;\n",
       "    }\n",
       "\n",
       "    .dataframe tbody tr th {\n",
       "        vertical-align: top;\n",
       "    }\n",
       "\n",
       "    .dataframe thead th {\n",
       "        text-align: right;\n",
       "    }\n",
       "</style>\n",
       "<table border=\"1\" class=\"dataframe\">\n",
       "  <thead>\n",
       "    <tr style=\"text-align: right;\">\n",
       "      <th></th>\n",
       "      <th>name</th>\n",
       "      <th>category</th>\n",
       "      <th>row_id</th>\n",
       "      <th>ingredient_number</th>\n",
       "      <th>ingredient</th>\n",
       "      <th>measure</th>\n",
       "    </tr>\n",
       "  </thead>\n",
       "  <tbody>\n",
       "    <tr>\n",
       "      <th>0</th>\n",
       "      <td>Gauguin</td>\n",
       "      <td>Cocktail Classics</td>\n",
       "      <td>1</td>\n",
       "      <td>1</td>\n",
       "      <td>Light Rum</td>\n",
       "      <td>2 oz</td>\n",
       "    </tr>\n",
       "    <tr>\n",
       "      <th>1</th>\n",
       "      <td>Gauguin</td>\n",
       "      <td>Cocktail Classics</td>\n",
       "      <td>1</td>\n",
       "      <td>2</td>\n",
       "      <td>Passion Fruit Syrup</td>\n",
       "      <td>1 oz</td>\n",
       "    </tr>\n",
       "    <tr>\n",
       "      <th>2</th>\n",
       "      <td>Gauguin</td>\n",
       "      <td>Cocktail Classics</td>\n",
       "      <td>1</td>\n",
       "      <td>3</td>\n",
       "      <td>Lemon Juice</td>\n",
       "      <td>1 oz</td>\n",
       "    </tr>\n",
       "    <tr>\n",
       "      <th>3</th>\n",
       "      <td>Gauguin</td>\n",
       "      <td>Cocktail Classics</td>\n",
       "      <td>1</td>\n",
       "      <td>4</td>\n",
       "      <td>Lime Juice</td>\n",
       "      <td>1 oz</td>\n",
       "    </tr>\n",
       "    <tr>\n",
       "      <th>4</th>\n",
       "      <td>Fort Lauderdale</td>\n",
       "      <td>Cocktail Classics</td>\n",
       "      <td>2</td>\n",
       "      <td>1</td>\n",
       "      <td>Light Rum</td>\n",
       "      <td>1 1/2 oz</td>\n",
       "    </tr>\n",
       "  </tbody>\n",
       "</table>\n",
       "</div>"
      ],
      "text/plain": [
       "              name           category  row_id  ingredient_number  \\\n",
       "0          Gauguin  Cocktail Classics       1                  1   \n",
       "1          Gauguin  Cocktail Classics       1                  2   \n",
       "2          Gauguin  Cocktail Classics       1                  3   \n",
       "3          Gauguin  Cocktail Classics       1                  4   \n",
       "4  Fort Lauderdale  Cocktail Classics       2                  1   \n",
       "\n",
       "            ingredient   measure  \n",
       "0            Light Rum      2 oz  \n",
       "1  Passion Fruit Syrup      1 oz  \n",
       "2          Lemon Juice      1 oz  \n",
       "3           Lime Juice      1 oz  \n",
       "4            Light Rum  1 1/2 oz  "
      ]
     },
     "execution_count": 5,
     "metadata": {},
     "output_type": "execute_result"
    }
   ],
   "source": [
    "df.head(5)"
   ]
  },
  {
   "cell_type": "code",
   "execution_count": 4,
   "id": "9d259408-8b69-46e3-9704-804bf1677fa7",
   "metadata": {},
   "outputs": [
    {
     "name": "stdout",
     "output_type": "stream",
     "text": [
      "<class 'pandas.core.frame.DataFrame'>\n",
      "RangeIndex: 3643 entries, 0 to 3642\n",
      "Data columns (total 6 columns):\n",
      " #   Column             Non-Null Count  Dtype \n",
      "---  ------             --------------  ----- \n",
      " 0   name               3643 non-null   object\n",
      " 1   category           3643 non-null   object\n",
      " 2   row_id             3643 non-null   int64 \n",
      " 3   ingredient_number  3643 non-null   int64 \n",
      " 4   ingredient         3643 non-null   object\n",
      " 5   measure            3643 non-null   object\n",
      "dtypes: int64(2), object(4)\n",
      "memory usage: 170.9+ KB\n"
     ]
    }
   ],
   "source": [
    "df.info()"
   ]
  },
  {
   "cell_type": "code",
   "execution_count": 7,
   "id": "1283c843-00c7-4f10-bf0f-e7770bdfa7fa",
   "metadata": {},
   "outputs": [
    {
     "data": {
      "text/plain": [
       "989"
      ]
     },
     "execution_count": 7,
     "metadata": {},
     "output_type": "execute_result"
    }
   ],
   "source": [
    "len(df[\"name\"].unique())"
   ]
  },
  {
   "cell_type": "code",
   "execution_count": 8,
   "id": "c9ecf05b-e6cd-413f-9523-7cf2157b9459",
   "metadata": {},
   "outputs": [
    {
     "data": {
      "text/plain": [
       "569"
      ]
     },
     "execution_count": 8,
     "metadata": {},
     "output_type": "execute_result"
    }
   ],
   "source": [
    "len(df[\"ingredient\"].unique())"
   ]
  },
  {
   "cell_type": "code",
   "execution_count": 10,
   "id": "9f5e7168-358e-43b3-bff5-df4f76cddac6",
   "metadata": {},
   "outputs": [
    {
     "data": {
      "text/plain": [
       "ingredient\n",
       "Gin                  176\n",
       "Fresh lemon juice    138\n",
       "Simple Syrup         115\n",
       "Vodka                114\n",
       "Light Rum            113\n",
       "Triple Sec           107\n",
       "Dry Vermouth         107\n",
       "Fresh Lime Juice     107\n",
       "Powdered Sugar        90\n",
       "Grenadine             85\n",
       "Name: count, dtype: int64"
      ]
     },
     "execution_count": 10,
     "metadata": {},
     "output_type": "execute_result"
    }
   ],
   "source": [
    "df[\"ingredient\"].value_counts().head(10)"
   ]
  },
  {
   "cell_type": "code",
   "execution_count": 13,
   "id": "691e0433-b088-4b8c-bf66-b4f6d7cc0274",
   "metadata": {},
   "outputs": [
    {
     "data": {
      "text/plain": [
       "['3/4 oz',\n",
       " '3/4 oz',\n",
       " '1/2 oz',\n",
       " '2 oz',\n",
       " '1/2 oz',\n",
       " '4 oz',\n",
       " '1/2 oz',\n",
       " '1/2 oz',\n",
       " '1/2 oz',\n",
       " '1 1/2 oz']"
      ]
     },
     "execution_count": 13,
     "metadata": {},
     "output_type": "execute_result"
    }
   ],
   "source": [
    "df[\"measure\"].sample(10).to_list()"
   ]
  },
  {
   "cell_type": "code",
   "execution_count": 26,
   "id": "bcdb7a24-3b8e-4531-98c8-963d8e432e28",
   "metadata": {},
   "outputs": [],
   "source": [
    "# Function to convert fluid ounces to milliliters\n",
    "def convert_to_ml(measure):\n",
    "    OZ_TO_ML = 29.5735\n",
    "    \n",
    "    # Split the measure by spaces and handle fractions manually\n",
    "    parts = measure.replace('oz', '').strip().split()\n",
    "    #print(parts)\n",
    "    total_oz = 0\n",
    "    for part in parts:\n",
    "        try:\n",
    "            total_oz += eval(part)\n",
    "        except:\n",
    "            continue\n",
    "    return round(total_oz * OZ_TO_ML, 2)\n",
    "\n",
    "# Apply the conversion to the measures column\n",
    "df['measures_ml'] = df['measure'].apply(convert_to_ml)"
   ]
  },
  {
   "cell_type": "code",
   "execution_count": 39,
   "id": "4b632cdf-96d3-42ef-8922-394db73f6865",
   "metadata": {},
   "outputs": [
    {
     "data": {
      "text/plain": [
       "Index(['Gin', 'Fresh lemon juice', 'Simple Syrup', 'Vodka', 'Light Rum',\n",
       "       'Triple Sec', 'Dry Vermouth', 'Fresh Lime Juice', 'Powdered Sugar',\n",
       "       'Grenadine'],\n",
       "      dtype='object', name='ingredient')"
      ]
     },
     "execution_count": 39,
     "metadata": {},
     "output_type": "execute_result"
    }
   ],
   "source": [
    "top_ingredients = df[\"ingredient\"].value_counts().head(10).index\n",
    "df[\"ingredient\"].value_counts().head(10).index"
   ]
  },
  {
   "cell_type": "code",
   "execution_count": 48,
   "id": "4f52b132-14d7-4d4b-8e28-785edab896b0",
   "metadata": {},
   "outputs": [
    {
     "data": {
      "text/plain": [
       "ingredient\n",
       "Grenadine            118.29\n",
       "Fresh Lime Juice      88.72\n",
       "Gin                   88.72\n",
       "Light Rum             88.72\n",
       "Dry Vermouth          73.93\n",
       "Fresh lemon juice     59.15\n",
       "Powdered Sugar        59.15\n",
       "Simple Syrup          59.15\n",
       "Vodka                 59.15\n",
       "Triple Sec            44.36\n",
       "Name: measures_ml, dtype: float64"
      ]
     },
     "execution_count": 48,
     "metadata": {},
     "output_type": "execute_result"
    }
   ],
   "source": [
    "df.query(\"ingredient.isin(@top_ingredients)\")\\\n",
    "    .groupby([\"ingredient\"])[\"measures_ml\"]\\\n",
    "    .max()\\\n",
    "    .sort_values(ascending=False)"
   ]
  },
  {
   "cell_type": "code",
   "execution_count": 32,
   "id": "413eca1b-e096-4803-97dd-fefdfc369a47",
   "metadata": {},
   "outputs": [
    {
     "data": {
      "text/html": [
       "<div>\n",
       "<style scoped>\n",
       "    .dataframe tbody tr th:only-of-type {\n",
       "        vertical-align: middle;\n",
       "    }\n",
       "\n",
       "    .dataframe tbody tr th {\n",
       "        vertical-align: top;\n",
       "    }\n",
       "\n",
       "    .dataframe thead th {\n",
       "        text-align: right;\n",
       "    }\n",
       "</style>\n",
       "<table border=\"1\" class=\"dataframe\">\n",
       "  <thead>\n",
       "    <tr style=\"text-align: right;\">\n",
       "      <th></th>\n",
       "      <th>name</th>\n",
       "      <th>category</th>\n",
       "      <th>row_id</th>\n",
       "      <th>ingredient_number</th>\n",
       "      <th>ingredient</th>\n",
       "      <th>measure</th>\n",
       "      <th>measures_ml</th>\n",
       "    </tr>\n",
       "  </thead>\n",
       "  <tbody>\n",
       "    <tr>\n",
       "      <th>1672</th>\n",
       "      <td>Sake Martini (Sakini)</td>\n",
       "      <td>Cocktail Classics</td>\n",
       "      <td>462</td>\n",
       "      <td>2</td>\n",
       "      <td>Gin</td>\n",
       "      <td>3 oz</td>\n",
       "      <td>88.72</td>\n",
       "    </tr>\n",
       "    <tr>\n",
       "      <th>375</th>\n",
       "      <td>Billy Taylor</td>\n",
       "      <td>Cocktail Classics</td>\n",
       "      <td>113</td>\n",
       "      <td>2</td>\n",
       "      <td>Gin</td>\n",
       "      <td>2 oz</td>\n",
       "      <td>59.15</td>\n",
       "    </tr>\n",
       "    <tr>\n",
       "      <th>300</th>\n",
       "      <td>Fog Horn</td>\n",
       "      <td>Cocktail Classics</td>\n",
       "      <td>89</td>\n",
       "      <td>3</td>\n",
       "      <td>Gin</td>\n",
       "      <td>2 oz</td>\n",
       "      <td>59.15</td>\n",
       "    </tr>\n",
       "    <tr>\n",
       "      <th>2091</th>\n",
       "      <td>New Orleans Gin Fizz</td>\n",
       "      <td>Cocktail Classics</td>\n",
       "      <td>575</td>\n",
       "      <td>5</td>\n",
       "      <td>Gin</td>\n",
       "      <td>2 oz</td>\n",
       "      <td>59.15</td>\n",
       "    </tr>\n",
       "    <tr>\n",
       "      <th>177</th>\n",
       "      <td>Monte Carlo Imperial Highball</td>\n",
       "      <td>Cocktail Classics</td>\n",
       "      <td>51</td>\n",
       "      <td>1</td>\n",
       "      <td>Gin</td>\n",
       "      <td>2 oz</td>\n",
       "      <td>59.15</td>\n",
       "    </tr>\n",
       "    <tr>\n",
       "      <th>...</th>\n",
       "      <td>...</td>\n",
       "      <td>...</td>\n",
       "      <td>...</td>\n",
       "      <td>...</td>\n",
       "      <td>...</td>\n",
       "      <td>...</td>\n",
       "      <td>...</td>\n",
       "    </tr>\n",
       "    <tr>\n",
       "      <th>1844</th>\n",
       "      <td>Long Island Tea</td>\n",
       "      <td>Cocktail Classics</td>\n",
       "      <td>508</td>\n",
       "      <td>2</td>\n",
       "      <td>Gin</td>\n",
       "      <td>1/2 oz</td>\n",
       "      <td>14.79</td>\n",
       "    </tr>\n",
       "    <tr>\n",
       "      <th>1913</th>\n",
       "      <td>Green Opal</td>\n",
       "      <td>Cocktail Classics</td>\n",
       "      <td>528</td>\n",
       "      <td>1</td>\n",
       "      <td>Gin</td>\n",
       "      <td>1/2 oz</td>\n",
       "      <td>14.79</td>\n",
       "    </tr>\n",
       "    <tr>\n",
       "      <th>3300</th>\n",
       "      <td>Fog Cutter</td>\n",
       "      <td>Rum - Daiquiris</td>\n",
       "      <td>904</td>\n",
       "      <td>3</td>\n",
       "      <td>Gin</td>\n",
       "      <td>1/2 oz</td>\n",
       "      <td>14.79</td>\n",
       "    </tr>\n",
       "    <tr>\n",
       "      <th>2004</th>\n",
       "      <td>Favourite Cocktail</td>\n",
       "      <td>Cocktail Classics</td>\n",
       "      <td>553</td>\n",
       "      <td>4</td>\n",
       "      <td>Gin</td>\n",
       "      <td>1/4 oz</td>\n",
       "      <td>7.39</td>\n",
       "    </tr>\n",
       "    <tr>\n",
       "      <th>2250</th>\n",
       "      <td>Barton Special</td>\n",
       "      <td>Cocktail Classics</td>\n",
       "      <td>616</td>\n",
       "      <td>3</td>\n",
       "      <td>Gin</td>\n",
       "      <td>1/4 oz</td>\n",
       "      <td>7.39</td>\n",
       "    </tr>\n",
       "  </tbody>\n",
       "</table>\n",
       "<p>176 rows × 7 columns</p>\n",
       "</div>"
      ],
      "text/plain": [
       "                               name           category  row_id  \\\n",
       "1672          Sake Martini (Sakini)  Cocktail Classics     462   \n",
       "375                    Billy Taylor  Cocktail Classics     113   \n",
       "300                        Fog Horn  Cocktail Classics      89   \n",
       "2091           New Orleans Gin Fizz  Cocktail Classics     575   \n",
       "177   Monte Carlo Imperial Highball  Cocktail Classics      51   \n",
       "...                             ...                ...     ...   \n",
       "1844                Long Island Tea  Cocktail Classics     508   \n",
       "1913                     Green Opal  Cocktail Classics     528   \n",
       "3300                     Fog Cutter    Rum - Daiquiris     904   \n",
       "2004             Favourite Cocktail  Cocktail Classics     553   \n",
       "2250                 Barton Special  Cocktail Classics     616   \n",
       "\n",
       "      ingredient_number ingredient measure  measures_ml  \n",
       "1672                  2        Gin    3 oz        88.72  \n",
       "375                   2        Gin    2 oz        59.15  \n",
       "300                   3        Gin    2 oz        59.15  \n",
       "2091                  5        Gin    2 oz        59.15  \n",
       "177                   1        Gin    2 oz        59.15  \n",
       "...                 ...        ...     ...          ...  \n",
       "1844                  2        Gin  1/2 oz        14.79  \n",
       "1913                  1        Gin  1/2 oz        14.79  \n",
       "3300                  3        Gin  1/2 oz        14.79  \n",
       "2004                  4        Gin  1/4 oz         7.39  \n",
       "2250                  3        Gin  1/4 oz         7.39  \n",
       "\n",
       "[176 rows x 7 columns]"
      ]
     },
     "execution_count": 32,
     "metadata": {},
     "output_type": "execute_result"
    }
   ],
   "source": [
    "df.query(\"ingredient == 'Gin'\").sort_values(\"measures_ml\", ascending=False)"
   ]
  },
  {
   "cell_type": "code",
   "execution_count": 49,
   "id": "4641dd0c-3fbf-4f58-8dd7-404bd6fc500c",
   "metadata": {},
   "outputs": [
    {
     "data": {
      "text/plain": [
       "category\n",
       "Cocktail Classics        1560\n",
       "Vodka                     545\n",
       "Whiskies                  457\n",
       "Rum - Daiquiris           437\n",
       "Tequila                   371\n",
       "Brandy                    169\n",
       "Gin                        67\n",
       "Cordials and Liqueurs      24\n",
       "Shooters                    6\n",
       "Rum                         4\n",
       "Non-alcoholic Drinks        3\n",
       "Name: count, dtype: int64"
      ]
     },
     "execution_count": 49,
     "metadata": {},
     "output_type": "execute_result"
    }
   ],
   "source": [
    "df[\"category\"].value_counts()"
   ]
  },
  {
   "cell_type": "code",
   "execution_count": 55,
   "id": "23b361fa-9ca7-45a6-91b1-3e794f2bce5c",
   "metadata": {},
   "outputs": [
    {
     "data": {
      "text/plain": [
       "ingredient\n",
       "Vodka                    100\n",
       "Fresh lemon juice         41\n",
       "Simple Syrup              34\n",
       "Fresh Lime Juice          21\n",
       "Citrus-flavored vodka     16\n",
       "Triple Sec                12\n",
       "White creme de cacao      10\n",
       "Cranberry Juice            9\n",
       "Pineapple Juice            9\n",
       "Orange juice               8\n",
       "Name: count, dtype: int64"
      ]
     },
     "execution_count": 55,
     "metadata": {},
     "output_type": "execute_result"
    }
   ],
   "source": [
    "df.query(\"category == 'Vodka'\")[\"ingredient\"].value_counts().head(10)"
   ]
  },
  {
   "cell_type": "code",
   "execution_count": 58,
   "id": "7b021930-7594-4262-9b66-8b76b351f346",
   "metadata": {},
   "outputs": [
    {
     "data": {
      "text/plain": [
       "ingredient\n",
       "Light Rum            70\n",
       "Fresh Lime Juice     39\n",
       "Simple Syrup         29\n",
       "Fresh lemon juice    27\n",
       "Dark rum             23\n",
       "Angostura Bitters    17\n",
       "Grenadine            17\n",
       "Pineapple Juice      14\n",
       "Triple Sec           14\n",
       "Sweet Vermouth        8\n",
       "Name: count, dtype: int64"
      ]
     },
     "execution_count": 58,
     "metadata": {},
     "output_type": "execute_result"
    }
   ],
   "source": [
    "df.query(\"category == 'Rum - Daiquiris'\")[\"ingredient\"].value_counts().head(10)"
   ]
  },
  {
   "cell_type": "code",
   "execution_count": null,
   "id": "3707b562-4dc2-4ccf-940b-82150826c765",
   "metadata": {},
   "outputs": [],
   "source": []
  }
 ],
 "metadata": {
  "kernelspec": {
   "display_name": "Python 3 (ipykernel)",
   "language": "python",
   "name": "python3"
  },
  "language_info": {
   "codemirror_mode": {
    "name": "ipython",
    "version": 3
   },
   "file_extension": ".py",
   "mimetype": "text/x-python",
   "name": "python",
   "nbconvert_exporter": "python",
   "pygments_lexer": "ipython3",
   "version": "3.13.0"
  }
 },
 "nbformat": 4,
 "nbformat_minor": 5
}
