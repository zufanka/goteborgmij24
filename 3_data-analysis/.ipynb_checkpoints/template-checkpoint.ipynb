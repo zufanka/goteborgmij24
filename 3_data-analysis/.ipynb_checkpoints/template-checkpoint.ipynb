{
 "cells": [
  {
   "cell_type": "markdown",
   "id": "4147d23b-e379-4901-9fba-295261cbd4aa",
   "metadata": {},
   "source": [
    "# Working title\n",
    "Brief summary: what is the story (who is the main character, what will it be about, what is the problem, who are the victims)\n",
    "\n",
    "The ideal headline: xxx\n",
    "\n",
    "Type of data story (See the [common angles](https://github.com/zufanka/goteborgmij24/blob/main/3_data-analysis/docs/Here%20are%20the%20angles%20journalists%20use%20most%20often%20to%20tell%20the%20stories%20in%20data%20_%20Online%20Journalism%20Blog.pdf)): xxx\n",
    "\n",
    "## What information we have\n",
    "- ...\n",
    "- ...\n",
    "\n",
    "## What information we need\n",
    "data, people, ...\n",
    "- ...\n",
    "- ...\n",
    "\n",
    "### Hypothesis 1\n",
    "- subquestion 1\n",
    "- subquestion 2\n",
    "- -\n",
    "\n",
    "### Hypothesis 2\n",
    "- subquestion 1\n",
    "- subquestion 2"
   ]
  },
  {
   "cell_type": "code",
   "execution_count": 1,
   "id": "e2c70e29-5f9a-49e1-b5c8-976ab9e6dabb",
   "metadata": {},
   "outputs": [],
   "source": [
    "import pandas as pd"
   ]
  },
  {
   "cell_type": "code",
   "execution_count": null,
   "id": "f2cd86ec-8fab-49b3-ac5a-f12a28fca83c",
   "metadata": {},
   "outputs": [],
   "source": []
  }
 ],
 "metadata": {
  "kernelspec": {
   "display_name": "Python 3 (ipykernel)",
   "language": "python",
   "name": "python3"
  },
  "language_info": {
   "codemirror_mode": {
    "name": "ipython",
    "version": 3
   },
   "file_extension": ".py",
   "mimetype": "text/x-python",
   "name": "python",
   "nbconvert_exporter": "python",
   "pygments_lexer": "ipython3",
   "version": "3.13.0"
  }
 },
 "nbformat": 4,
 "nbformat_minor": 5
}
