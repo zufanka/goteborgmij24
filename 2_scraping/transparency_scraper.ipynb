{
 "cells": [
  {
   "cell_type": "code",
   "execution_count": 73,
   "id": "e15f1a65-01f0-4fd2-b08a-6852f0da66cc",
   "metadata": {},
   "outputs": [],
   "source": [
    "import requests\n",
    "from bs4 import BeautifulSoup as bs\n",
    "import csv"
   ]
  },
  {
   "cell_type": "code",
   "execution_count": 69,
   "id": "a9b888d6-72a7-4094-9564-d6ce786a5b7f",
   "metadata": {},
   "outputs": [],
   "source": [
    "badurl = \"https://transparency-register.europa.eu/searchregister-or-update/search-register_en?from=&to=&lastUpdateFrom=&lastUpdateTo=&status=&categories=category.cabinetsavocats&numberPersonOF.operator=1&numberPersonOF.value=&numberPersonOF.min=&numberPersonOF.max=&numberFTEPersonOF.operator=1&numberFTEPersonOF.value=&numberFTEPersonOF.min=&numberFTEPersonOF.max=&numberEPAccreditedPersonOF.operator=1&numberEPAccreditedPersonOF.value=&numberEPAccreditedPersonOF.min=&numberEPAccreditedPersonOF.max=&annualCostOF.operator=1&annualCostOF.value=&annualCostOF.min=&annualCostOF.max=&annualRevenueOF.operator=1&annualRevenueOF.value=&annualRevenueOF.min=&annualRevenueOF.max=&totalBudgetOF.operator=1&totalBudgetOF.value=&totalBudgetOF.min=&totalBudgetOF.max=&grantsClosedOF.operator=1&grantsClosedOF.value=&grantsClosedOF.min=&grantsClosedOF.max=&grantsCurrentOF.operator=1&grantsCurrentOF.value=&grantsCurrentOF.min=&grantsCurrentOF.max=&action=submit\""
   ]
  },
  {
   "cell_type": "code",
   "execution_count": 78,
   "id": "1493bd0a-0e84-4ad0-9fd7-d95d76058c84",
   "metadata": {},
   "outputs": [],
   "source": [
    "with open(\"law-firms.csv\", \"w\") as csvfile:\n",
    "    writer = csv.writer(csvfile)\n",
    "    writer.writerow([\"ID\", \"name\", \"url\"])\n",
    "    \n",
    "    for n in range(0,3):\n",
    "    \n",
    "        url = f\"https://ec.europa.eu/transparencyregister/public/search/advanced?lang=en&from=&to=&lastUpdateFrom=&lastUpdateTo=&status=&categories=category.cabinetsavocats&numberPersonOF.operator=1&numberPersonOF.value=&numberPersonOF.min=&numberPersonOF.max=&numberFTEPersonOF.operator=1&numberFTEPersonOF.value=&numberFTEPersonOF.min=&numberFTEPersonOF.max=&numberEPAccreditedPersonOF.operator=1&numberEPAccreditedPersonOF.value=&numberEPAccreditedPersonOF.min=&numberEPAccreditedPersonOF.max=&annualCostOF.operator=1&annualCostOF.value=&annualCostOF.min=&annualCostOF.max=&annualRevenueOF.operator=1&annualRevenueOF.value=&annualRevenueOF.min=&annualRevenueOF.max=&totalBudgetOF.operator=1&totalBudgetOF.value=&totalBudgetOF.min=&totalBudgetOF.max=&grantsClosedOF.operator=1&grantsClosedOF.value=&grantsClosedOF.min=&grantsClosedOF.max=&grantsCurrentOF.operator=1&grantsCurrentOF.value=&grantsCurrentOF.min=&grantsCurrentOF.max=&action=submit&page={n}\"\n",
    "    \n",
    "        r = requests.get(url)\n",
    "        soup = bs(r.text)\n",
    "    \n",
    "        for row in soup.select(\".ecl-table__row\"):\n",
    "        \n",
    "            if len(row.select('th')) > 0:\n",
    "                continue\n",
    "                \n",
    "           #     header = []\n",
    "           #     for th in soup.select(\".ecl-table__row\")[0].select('th'):\n",
    "           #         header.append(th.text)\n",
    "           #     writer.writerow(header)\n",
    "\n",
    "            row = row.select(\"td\")\n",
    "        \n",
    "            name = row[1].text.strip()\n",
    "            ID = row[0].text.strip()\n",
    "            link = row[0].a.get('href')\n",
    "            full_link = f\"https://transparency-register.europa.eu/searchregister-or-update/organisation-detail_en{link.replace('search-details_en','')}\" \n",
    "    \n",
    "            writer.writerow([ID, name, full_link])"
   ]
  }
 ],
 "metadata": {
  "kernelspec": {
   "display_name": "Python 3 (ipykernel)",
   "language": "python",
   "name": "python3"
  },
  "language_info": {
   "codemirror_mode": {
    "name": "ipython",
    "version": 3
   },
   "file_extension": ".py",
   "mimetype": "text/x-python",
   "name": "python",
   "nbconvert_exporter": "python",
   "pygments_lexer": "ipython3",
   "version": "3.13.0"
  }
 },
 "nbformat": 4,
 "nbformat_minor": 5
}
