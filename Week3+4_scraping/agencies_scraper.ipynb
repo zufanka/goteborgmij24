{
 "cells": [
  {
   "cell_type": "code",
   "execution_count": 4,
   "id": "7cc43fb0-6296-43a4-a705-be91d91dbf74",
   "metadata": {},
   "outputs": [],
   "source": [
    "import requests\n",
    "import csv\n",
    "# bs is an alias for BeautifulSoup\n",
    "from bs4 import BeautifulSoup as bs"
   ]
  },
  {
   "cell_type": "code",
   "execution_count": null,
   "id": "29272535-3c40-4636-9f14-05493aa0d5df",
   "metadata": {},
   "outputs": [],
   "source": [
    "with open('agencies.csv', 'w') as csvfile:\n",
    "    # create a writer for our file\n",
    "    csvwriter = csv.writer(csvfile, delimiter=',')\n",
    "    # this is our header\n",
    "    csvwriter.writerow([\"abbreviation\", \"type\", \"agency\", \"commissioner\"])\n",
    "\n",
    "    # there are three pages we need to go through\n",
    "    for n in range(3):\n",
    "        \n",
    "        # f strings allow us to combine strings and variables\n",
    "        url = f\"https://commission.europa.eu/about/departments-and-executive-agencies_en?page={n}\"\n",
    "    \n",
    "        # get the website as plaintext\n",
    "        r = requests.get(url)\n",
    "    \n",
    "        # make the plaintext into something BeautifulSoup can work with\n",
    "        soup = bs(r.text)\n",
    "\n",
    "        links = soup.select(\".ecl-card__body a\")\n",
    "    \n",
    "        for a in links:\n",
    "            # get the href attribute out of the element\n",
    "            href = a.get(\"href\")\n",
    "            \n",
    "            if href.startswith('https://'):\n",
    "                continue\n",
    "            \n",
    "            print(href)\n",
    "    \n",
    "            r = requests.get(f\"https://commission.europa.eu{href}\")\n",
    "            soup = bs(r.text)\n",
    "\n",
    "            # find the string \"Commissioner\" in the page\n",
    "            findcommissioner = soup.find(string=\"Commissioner\")\n",
    "\n",
    "            # handle cases where abbreviation is not on the page\n",
    "            try:\n",
    "                abbreviation = soup.select(\".ecl-page-header__info li\")[1].text\n",
    "            except IndexError:\n",
    "                abbreviation = \"\"\n",
    "            \n",
    "            type = soup.select(\".ecl-page-header__info li\")[0].text\n",
    "            agency = soup.select_one(\".ecl-page-header__info h1\").text\n",
    "\n",
    "            # sometimes there is no commissioner, let's handle that\n",
    "            if findcommissioner != None:\n",
    "                commissioner = findcommissioner.parent.parent.a.text\n",
    "                csvwriter.writerow([abbreviation, type, agency, commissioner])\n",
    "            \n",
    "            else:\n",
    "                csvwriter.writerow([abbreviation, type, agency, \"\"])"
   ]
  },
  {
   "cell_type": "code",
   "execution_count": null,
   "id": "a10003b9-6245-41c8-ab44-7c33029f6825",
   "metadata": {},
   "outputs": [],
   "source": []
  }
 ],
 "metadata": {
  "kernelspec": {
   "display_name": "Python 3 (ipykernel)",
   "language": "python",
   "name": "python3"
  },
  "language_info": {
   "codemirror_mode": {
    "name": "ipython",
    "version": 3
   },
   "file_extension": ".py",
   "mimetype": "text/x-python",
   "name": "python",
   "nbconvert_exporter": "python",
   "pygments_lexer": "ipython3",
   "version": "3.12.7"
  }
 },
 "nbformat": 4,
 "nbformat_minor": 5
}
